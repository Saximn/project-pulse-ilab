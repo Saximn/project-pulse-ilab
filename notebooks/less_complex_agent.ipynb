{
 "cells": [
  {
   "cell_type": "markdown",
   "id": "fa6ad4c8",
   "metadata": {},
   "source": [
    "# Imports and traces"
   ]
  },
  {
   "cell_type": "code",
   "execution_count": 1,
   "id": "9b286461",
   "metadata": {},
   "outputs": [
    {
     "data": {
      "text/plain": [
       "True"
      ]
     },
     "execution_count": 1,
     "metadata": {},
     "output_type": "execute_result"
    }
   ],
   "source": [
    "from dotenv import load_dotenv\n",
    "import os\n",
    "\n",
    "load_dotenv()"
   ]
  },
  {
   "cell_type": "markdown",
   "id": "1fdb30c8",
   "metadata": {},
   "source": [
    "## Setup llm and vector_store"
   ]
  },
  {
   "cell_type": "code",
   "execution_count": 2,
   "id": "71313884",
   "metadata": {},
   "outputs": [],
   "source": [
    "from langchain_openai import ChatOpenAI, OpenAIEmbeddings\n",
    "from langchain_community.vectorstores import FAISS\n",
    "\n",
    "llm = ChatOpenAI(model=\"o4-mini\")\n",
    "embeddings = OpenAIEmbeddings(model=\"text-embedding-3-large\")\n",
    "\n",
    "PMBOK_vector_store = FAISS.load_local(\n",
    "    \"faiss_index\", embeddings, allow_dangerous_deserialization=True\n",
    ")"
   ]
  },
  {
   "cell_type": "code",
   "execution_count": 3,
   "id": "80cef1e0",
   "metadata": {},
   "outputs": [],
   "source": [
    "PMBOK_retriever = PMBOK_vector_store.as_retriever(search_type=\"mmr\")"
   ]
  },
  {
   "cell_type": "markdown",
   "id": "900551b5",
   "metadata": {},
   "source": [
    "## Retriever tool"
   ]
  },
  {
   "cell_type": "code",
   "execution_count": 4,
   "id": "8aa6b25b",
   "metadata": {},
   "outputs": [],
   "source": [
    "def PMBOK_retriever_tool(query: str) -> str:\n",
    "    \"\"\"\n",
    "    **PRIMARY PROJECT MANAGEMENT KNOWLEDGE SOURCE**\n",
    "    \n",
    "    This tool provides access to the authoritative Project Management Body of Knowledge (PMBOK) guide - \n",
    "    the global standard for project management practices. \n",
    "    \n",
    "    **IMPORTANT FOR AI AGENTS**: Always consult this tool for ANY project management related query, including:\n",
    "    - Project processes, methodologies, and frameworks\n",
    "    - PM terminology, definitions, and concepts\n",
    "    - Best practices and industry standards\n",
    "    - Knowledge areas (scope, time, cost, quality, risk, etc.)\n",
    "    - Process groups (initiating, planning, executing, monitoring, closing)\n",
    "    - Project management tools and techniques\n",
    "    - Stakeholder management approaches\n",
    "    - Risk management strategies\n",
    "    - Quality management practices\n",
    "    - And any other PM-related guidance\n",
    "    \n",
    "    This should be your FIRST resource when addressing project management questions to ensure \n",
    "    responses are grounded in established, authoritative standards rather than general knowledge alone.\n",
    "    \n",
    "    Uses semantic search to retrieve the most relevant sections from the PMBOK documentation\n",
    "    based on your query terms.\n",
    "    \"\"\"\n",
    "    docs = PMBOK_retriever.invoke(query)\n",
    "    # Format the retrieved documents for readability\n",
    "    return \"\\nRetrieved documents:\\n\" + \"\".join(\n",
    "        [\n",
    "            f\"\\n\\n===== Document {str(i)} =====\\n\" + doc.page_content\n",
    "            for i, doc in enumerate(docs)\n",
    "        ]\n",
    "    )"
   ]
  },
  {
   "cell_type": "markdown",
   "id": "db366291",
   "metadata": {},
   "source": [
    "## Search tool"
   ]
  },
  {
   "cell_type": "code",
   "execution_count": 5,
   "id": "789aa5c4",
   "metadata": {},
   "outputs": [],
   "source": [
    "from langchain_tavily import TavilySearch\n",
    "\n",
    "tavily_tool = TavilySearch(max_results=3)"
   ]
  },
  {
   "cell_type": "markdown",
   "id": "d8f5f38d",
   "metadata": {},
   "source": [
    "### Sanity checks"
   ]
  },
  {
   "cell_type": "code",
   "execution_count": 6,
   "id": "adb0015c",
   "metadata": {},
   "outputs": [],
   "source": [
    "llm_with_tools = llm.bind_tools([PMBOK_retriever_tool, tavily_tool])"
   ]
  },
  {
   "cell_type": "code",
   "execution_count": 7,
   "id": "0ecb6829",
   "metadata": {},
   "outputs": [],
   "source": [
    "res = llm_with_tools.invoke(\"search what does project mean in PMBOK retriever tool\")"
   ]
  },
  {
   "cell_type": "code",
   "execution_count": 8,
   "id": "bf25d9da",
   "metadata": {},
   "outputs": [
    {
     "data": {
      "text/plain": [
       "AIMessage(content='', additional_kwargs={'tool_calls': [{'id': 'call_7QRHaC6L0SZ2KVjZIhCa7EIC', 'function': {'arguments': '{\"query\":\"definition of project\"}', 'name': 'PMBOK_retriever_tool'}, 'type': 'function'}], 'refusal': None}, response_metadata={'token_usage': {'completion_tokens': 286, 'prompt_tokens': 1003, 'total_tokens': 1289, 'completion_tokens_details': {'accepted_prediction_tokens': 0, 'audio_tokens': 0, 'reasoning_tokens': 256, 'rejected_prediction_tokens': 0}, 'prompt_tokens_details': {'audio_tokens': 0, 'cached_tokens': 0}}, 'model_name': 'o4-mini-2025-04-16', 'system_fingerprint': None, 'finish_reason': 'tool_calls', 'logprobs': None}, id='run--6ab092e4-b89c-46d3-8f4d-40047d7dc6f9-0', tool_calls=[{'name': 'PMBOK_retriever_tool', 'args': {'query': 'definition of project'}, 'id': 'call_7QRHaC6L0SZ2KVjZIhCa7EIC', 'type': 'tool_call'}], usage_metadata={'input_tokens': 1003, 'output_tokens': 286, 'total_tokens': 1289, 'input_token_details': {'audio': 0, 'cache_read': 0}, 'output_token_details': {'audio': 0, 'reasoning': 256}})"
      ]
     },
     "execution_count": 8,
     "metadata": {},
     "output_type": "execute_result"
    }
   ],
   "source": [
    "res"
   ]
  },
  {
   "cell_type": "code",
   "execution_count": null,
   "id": "f2b26951",
   "metadata": {},
   "outputs": [],
   "source": []
  },
  {
   "cell_type": "markdown",
   "id": "addf2f3c",
   "metadata": {},
   "source": [
    "# Graphs"
   ]
  },
  {
   "cell_type": "markdown",
   "id": "156561b2",
   "metadata": {},
   "source": [
    "## Nodes and states"
   ]
  },
  {
   "cell_type": "code",
   "execution_count": 9,
   "id": "4218ece8",
   "metadata": {},
   "outputs": [],
   "source": [
    "from typing_extensions import TypedDict\n",
    "from typing import Annotated\n",
    "from langgraph.graph.message import add_messages\n",
    "\n",
    "class State(TypedDict):\n",
    "    \"\"\"\n",
    "    Represents the state of the memory graph.\n",
    "    \"\"\"\n",
    "    messages: Annotated[list, add_messages]\n",
    "    session_history: Annotated[list, add_messages]\n",
    "    session_summary: str"
   ]
  },
  {
   "cell_type": "code",
   "execution_count": 10,
   "id": "45518cc7",
   "metadata": {},
   "outputs": [],
   "source": [
    "def agent(state: State) -> State:\n",
    "    \"\"\"\n",
    "    Analyzes the query using the PMBOK retriever and Tavily search tool.\n",
    "    Can be called multiple times to refine the analysis based on gathered information.\n",
    "    Returns a state object with updated analysis and plan.\n",
    "    \"\"\"\n",
    "\n",
    "        # Original analysis prompt\n",
    "    ANALYZER_SYSTEM_PROMPT = \"\"\"\n",
    "You are a helpful and friendly Project Management Assistant with extensive knowledge of project management best practices and the PMBOK guide. You genuinely care about helping project managers succeed and navigate the complexities of their work.\n",
    "\n",
    "## Your Personality:\n",
    "- **Warm and approachable**: Like a trusted colleague who's always ready to help\n",
    "- **Professional yet personable**: Knowledgeable but never condescending\n",
    "- **Supportive and encouraging**: Acknowledge challenges while providing confidence\n",
    "- **Practical and solution-oriented**: Focus on actionable advice that really works\n",
    "\n",
    "## Your Capabilities:\n",
    "You have access to powerful tools that you can use multiple times to provide the best possible help:\n",
    "- **PMBOK_retriever_tool**: Your PRIMARY source for authoritative PMBOK guidance. Always consult this for ANY project management question - processes, methodologies, standards, definitions, best practices, etc.\n",
    "- **tavily_tool**: Search for current industry trends, real-world examples, and latest developments\n",
    "\n",
    "**CRITICAL**: For project management topics, ALWAYS start with PMBOK_retriever_tool to ensure your responses are grounded in authoritative standards, then supplement with current trends if needed.\n",
    "\n",
    "Feel free to use these tools as many times as needed to gather comprehensive information. Don't hesitate to search multiple times with different terms to get a complete picture.\n",
    "\n",
    "## Your Approach:\n",
    "Whether you use tools or draw from your existing knowledge, always:\n",
    "\n",
    "1. **Understand the human behind the question**: Every query comes from someone trying to deliver value, manage stakeholders, meet deadlines, and succeed in their role\n",
    "\n",
    "2. **Provide comprehensive support**: \n",
    "   - Use tools when you need specific PMBOK guidance, current trends, or detailed information\n",
    "   - Draw from your knowledge for general advice and conceptual explanations\n",
    "   - Combine multiple sources for complex scenarios\n",
    "\n",
    "3. **Structure your responses thoughtfully**:\n",
    "   - Address their immediate need with empathy\n",
    "   - Provide clear, actionable guidance\n",
    "   - Reference relevant PMBOK processes or industry practices\n",
    "   - Use headings and bullet points for clarity\n",
    "\n",
    "4. **Always conclude with engagement**:\n",
    "   - **Summarize key takeaways** in 2-3 sentences\n",
    "   - **Ask 2-3 specific follow-up questions** such as:\n",
    "     * \"Would you like me to help you create a template for [specific deliverable]?\"\n",
    "     * \"Are there any specific stakeholder challenges you're facing with this approach?\"\n",
    "     * \"How does your organization typically handle [relevant process]?\"\n",
    "     * \"Would it be helpful to dive deeper into any particular aspect?\"\n",
    "     * \"What's your biggest concern about implementing this approach?\"\n",
    "\n",
    "## When to Use Tools vs. Direct Knowledge:\n",
    "- **Use tools** for: Specific PMBOK processes, current industry trends, detailed methodologies, complex scenarios needing research\n",
    "- **Use knowledge directly** for: Basic PM concepts, general advice, simple explanations, coaching questions\n",
    "\n",
    "Remember: You're not just providing information—you're empowering someone to be more effective in their role and deliver better project outcomes. Be the colleague they wish they had on their team.\n",
    "\n",
    "Here is the summary for this chat session: \n",
    "<summary>\n",
    "\n",
    "{session_summary}\n",
    "\n",
    "<summary />\n",
    "\n",
    "Now, analyze their query with empathy and determine how best to help them succeed.\n",
    "\"\"\"\n",
    "    ANALYZER_SYSTEM_PROMPT = ANALYZER_SYSTEM_PROMPT.format(\n",
    "        session_summary=state.get(\"session_summary\", \"\")\n",
    "    )\n",
    "\n",
    "    # Use the LLM to analyze the query and create/update the plan\n",
    "    response = llm_with_tools.invoke([\n",
    "        {\"role\": \"system\", \"content\": ANALYZER_SYSTEM_PROMPT}\n",
    "    ] + state.get(\"messages\", []))\n",
    "    \n",
    "    # Update the state with new plan while preserving existing information\n",
    "    return {\"messages\": response}"
   ]
  },
  {
   "cell_type": "markdown",
   "id": "c8b8a7c8",
   "metadata": {},
   "source": [
    "## Tool Condition"
   ]
  },
  {
   "cell_type": "code",
   "execution_count": null,
   "id": "d27dd9ac",
   "metadata": {},
   "outputs": [],
   "source": []
  },
  {
   "cell_type": "code",
   "execution_count": null,
   "id": "e11ec745",
   "metadata": {},
   "outputs": [],
   "source": []
  },
  {
   "cell_type": "code",
   "execution_count": null,
   "id": "a05542d5",
   "metadata": {},
   "outputs": [],
   "source": []
  },
  {
   "cell_type": "code",
   "execution_count": null,
   "id": "4b5a6141",
   "metadata": {},
   "outputs": [],
   "source": []
  },
  {
   "cell_type": "code",
   "execution_count": null,
   "id": "8fbfb58c",
   "metadata": {},
   "outputs": [],
   "source": []
  },
  {
   "cell_type": "code",
   "execution_count": null,
   "metadata": {},
   "outputs": [],
   "source": []
  },
  {
   "cell_type": "code",
   "execution_count": null,
   "metadata": {},
   "outputs": [],
   "source": []
  },
  {
   "cell_type": "code",
   "execution_count": null,
   "metadata": {},
   "outputs": [],
   "source": []
  },
  {
   "cell_type": "code",
   "execution_count": null,
   "id": "eaacd94d",
   "metadata": {},
   "outputs": [],
   "source": []
  },
  {
   "cell_type": "code",
   "execution_count": null,
   "metadata": {},
   "outputs": [],
   "source": []
  },
  {
   "cell_type": "code",
   "execution_count": null,
   "metadata": {},
   "outputs": [],
   "source": []
  },
  {
   "cell_type": "markdown",
   "id": "122ed917",
   "metadata": {},
   "source": [
    "### Summarization and memory"
   ]
  },
  {
   "cell_type": "code",
   "execution_count": 11,
   "id": "f0bdfdd5",
   "metadata": {},
   "outputs": [],
   "source": [
    "from langchain_core.messages import HumanMessage, RemoveMessage\n",
    "from langgraph.graph import END\n",
    "\n",
    "def summarize_conversation(state: State):\n",
    "    \n",
    "    # First, we get any existing summary\n",
    "    summary = state.get(\"session_summary\", \"\")\n",
    "\n",
    "    # Create our summarization prompt \n",
    "    if summary:\n",
    "        \n",
    "        # A summary already exists\n",
    "        summary_message = (\n",
    "            f\"This is summary of the conversation to date: {summary}\\n\\n\"\n",
    "            \"Extend the summary by taking into account the new messages above:\"\n",
    "        )\n",
    "        \n",
    "    else:\n",
    "        summary_message = \"Create a summary of the conversation above:\"\n",
    "\n",
    "    # Add prompt to our history\n",
    "    messages = [HumanMessage(content=summary_message)] + state[\"messages\"]\n",
    "    response = llm.invoke(messages)\n",
    "\n",
    "    deleted_messages = [\n",
    "        RemoveMessage(id=m.id) for m in state[\"messages\"][:-12]\n",
    "    ]  # Keep the last 6 messages\n",
    "\n",
    "    return {\"session_summary\": response.content, \"messages\": deleted_messages}\n",
    "\n",
    "# Determine whether to end or summarize the conversation\n",
    "def should_summarize(state: State):\n",
    "    \n",
    "    \"\"\"Return the next node to execute.\"\"\"\n",
    "    \n",
    "    # If there are more than twelve messages, then we summarize the conversation\n",
    "    if len(state[\"session_history\"]) > 12:\n",
    "        return \"summarize_conversation\"\n",
    "    \n",
    "    # Otherwise we can just end\n",
    "    return END"
   ]
  },
  {
   "cell_type": "markdown",
   "id": "e4a1017d",
   "metadata": {},
   "source": [
    "## Graph Construction"
   ]
  },
  {
   "cell_type": "code",
   "execution_count": 12,
   "id": "1c0c2a08",
   "metadata": {},
   "outputs": [],
   "source": [
    "from langgraph.graph import START, StateGraph\n",
    "from langgraph.prebuilt import tools_condition, ToolNode\n",
    "from IPython.display import Image, display\n",
    "from langgraph.checkpoint.memory import MemorySaver\n",
    "\n",
    "# Create graph\n",
    "workflow = StateGraph(State)\n",
    "\n",
    "# Add nodes\n",
    "workflow.add_node(\"agent\", agent)\n",
    "workflow.add_node(\"tools\", ToolNode([PMBOK_retriever_tool, tavily_tool]))\n",
    "workflow.add_node(\"summarize_conversation\", summarize_conversation)\n",
    "\n",
    "# Add edges\n",
    "\n",
    "workflow.add_edge(START, \"agent\")\n",
    "workflow.add_conditional_edges(\n",
    "    \"agent\",\n",
    "    tools_condition\n",
    ")\n",
    "workflow.add_edge(\"tools\", \"agent\")\n",
    "workflow.add_conditional_edges(\n",
    "    \"agent\",\n",
    "    should_summarize,\n",
    "    {\"summarize_conversation\": \"summarize_conversation\", END: END}\n",
    ")\n",
    "workflow.add_edge(\"summarize_conversation\", END)\n",
    "\n",
    "# Add checkpointer\n",
    "memory = MemorySaver()\n",
    "graph = workflow.compile(checkpointer=memory)"
   ]
  },
  {
   "cell_type": "code",
   "execution_count": 13,
   "id": "8cb89f3c",
   "metadata": {},
   "outputs": [
    {
     "data": {
      "image/png": "[encoded data removed]",
      "text/plain": [
       "<IPython.core.display.Image object>"
      ]
     },
     "metadata": {},
     "output_type": "display_data"
    }
   ],
   "source": [
    "display(Image(graph.get_graph().draw_mermaid_png()))"
   ]
  },
  {
   "cell_type": "markdown",
   "id": "44ca9dde",
   "metadata": {},
   "source": [
    "## Testing"
   ]
  },
  {
   "cell_type": "code",
   "execution_count": 14,
   "id": "c5f29583",
   "metadata": {},
   "outputs": [],
   "source": [
    "config = {\"configurable\": {\"thread_id\": \"1\"}}"
   ]
  },
  {
   "cell_type": "code",
   "execution_count": 15,
   "id": "c0195963",
   "metadata": {},
   "outputs": [],
   "source": [
    "from IPython.display import Markdown, display\n",
    "\n",
    "def ask_query(query: str, config: dict = config, graph=graph):\n",
    "    \"\"\"\n",
    "    Ask a query to the agent and return the response.\n",
    "    \n",
    "    Args:\n",
    "        query (str): The query to ask.\n",
    "        config (dict): Configuration for the agent.\n",
    "        \n",
    "    Returns:\n",
    "        str: The response from the agent.\n",
    "    \"\"\"\n",
    "    res = graph.invoke({\"messages\": HumanMessage(query)}, config)\n",
    "    display(Markdown(res[\"messages\"][-1].content))"
   ]
  },
  {
   "cell_type": "code",
   "execution_count": 17,
   "id": "b664603b",
   "metadata": {},
   "outputs": [
    {
     "data": {
      "text/markdown": [
       "According to the PMBOK® Guide (PMI, 7th Edition), a project is:\n",
       "\n",
       "  “A temporary endeavor undertaken to create a unique product, service, or result.”  \n",
       "\n",
       "Key characteristics in that definition are:\n",
       "\n",
       "• Temporary – A project has a defined beginning and end. When its objectives are met (or it’s terminated), the project closes.  \n",
       "• Unique – The deliverable(s) produced are distinct in some way (even if similar to past work).  \n",
       "• Progressive Elaboration – While the end goal is clear, details often become more refined as the project moves forward.  \n",
       "\n",
       "How a project differs from ongoing operations:  \n",
       "• Projects focus on change, innovation, or one-off outcomes.  \n",
       "• Operations are continuous, repetitive activities that maintain the business.  \n",
       "\n",
       "Examples:  \n",
       "• Launching a new mobile app (unique software, defined timeline)  \n",
       "• Constructing an office building (defined start/end, one-off structure)  \n",
       "• Implementing an ERP system (unique configuration, phased roll-out)  \n",
       "\n",
       "Why understanding “project” matters:  \n",
       "• Defines scope and lifespan clearly  \n",
       "• Helps choose the right management approach (predictive, agile, hybrid)  \n",
       "• Shapes how you plan, execute, monitor, and close the work  \n",
       "\n",
       "Next steps:  \n",
       "1. Do you need guidance on drafting a project charter to capture those defining traits?  \n",
       "2. Are you curious how to distinguish project scope from product scope in your organization?  \n",
       "3. Would a template for progressive elaboration or a WBS outline be helpful?"
      ],
      "text/plain": [
       "<IPython.core.display.Markdown object>"
      ]
     },
     "metadata": {},
     "output_type": "display_data"
    }
   ],
   "source": [
    "ask_query(\"what is a project?\")"
   ]
  },
  {
   "cell_type": "code",
   "execution_count": 18,
   "id": "698137cd",
   "metadata": {},
   "outputs": [
    {
     "data": {
      "text/markdown": [
       "Distinguishing product scope from project scope is one of the most powerful levers for keeping stakeholders aligned, controlling change, and ensuring you build exactly what’s needed—no more, no less. Here’s how PMBOK® (7th Ed.) defines each and practical guidance on separating them in your organization.\n",
       "\n",
       "1. PMBOK® Definitions  \n",
       "   • Product scope = the features and functions that characterize a product, service, or result.  \n",
       "   • Project scope = the work performed to deliver that product, service, or result with the specified features and functions.\n",
       "\n",
       "2. Key Differences  \n",
       "   • Focus  \n",
       "     – Product scope = “What” gets delivered (e.g., all the capabilities of the mobile app).  \n",
       "     – Project scope = “How” you deliver it (e.g., design, coding, testing, deployment tasks).  \n",
       "   • Ownership  \n",
       "     – Product scope is often owned by a Product Manager/Owner; it lives in your Product Requirements Document or backlog.  \n",
       "     – Project scope is owned by the Project Manager; it lives in the Project Scope Statement, WBS, and scope baseline.  \n",
       "   • Change Control  \n",
       "     – Changes to product scope typically require impact assessment (value vs. cost/time).  \n",
       "     – Changes to project scope affect schedule, budget and are managed via your Change Control Board or integrated change control process.\n",
       "\n",
       "3. Practical Steps to Keep Them Separate (and Aligned)  \n",
       "  a. Create Two Core Artefacts:  \n",
       "     – Product Requirements Document or Product Backlog: captures all features, user stories, acceptance criteria.  \n",
       "     – Project Scope Statement & WBS: breaks the work into deliverable-oriented packages (e.g., “Build login module,” “Conduct UAT,” “Deploy to App Store”).  \n",
       "  b. Establish Traceability:  \n",
       "     – Map each feature/user story to one or more WBS work packages. That way, every piece of “what” is tied back to “how” you’re going to deliver it.  \n",
       "  c. Define Roles & Governance:  \n",
       "     – Product Owner approves features and their acceptance criteria.  \n",
       "     – Project Manager approves work packages, sequence of activities, resource assignments.  \n",
       "  d. Align Your Change Control:  \n",
       "     – Use a joint impact log: when someone requests a new feature (product-scope change), you immediately estimate its effect on project schedule, cost, risk.  \n",
       "     – Ensure any project-scope change (e.g., adding an extra QA cycle) is reviewed for impact on product readiness and cost.  \n",
       "  e. Host a Scope Workshop:  \n",
       "     – Early in planning, run a facilitated session with product, development, QA, operations, and key stakeholders.  \n",
       "     – Agree on product scope boundaries (MVP vs. future releases) and draft the high-level WBS together.  \n",
       "\n",
       "4. PMBOK® Process References  \n",
       "   – Planning Process Group: Scope Management Plan (defines how you’ll manage scope), Collect Requirements, Define Scope (creates project scope statement), Create WBS.  \n",
       "   – Monitor & Control Process Group: Perform Integrated Change Control (for both product- and project-scope changes).\n",
       "\n",
       "Would you like:  \n",
       "  • A sample template mapping product features to WBS work packages?  \n",
       "  • A brief workshop agenda to align product and project teams on scope?  \n",
       "  • Guidance on setting up your Change Control Board with dual-scope checkpoints?"
      ],
      "text/plain": [
       "<IPython.core.display.Markdown object>"
      ]
     },
     "metadata": {},
     "output_type": "display_data"
    }
   ],
   "source": [
    "ask_query(\"number 2\")"
   ]
  },
  {
   "cell_type": "code",
   "execution_count": 19,
   "id": "0d8ad497",
   "metadata": {},
   "outputs": [
    {
     "data": {
      "text/markdown": [
       "Getting a project off the ground is really about moving through the five PMBOK® Process Groups—Initiating, Planning, Executing, Monitoring & Controlling, and Closing—while tailoring each step to your organization and delivery approach. Here’s a high-level roadmap:\n",
       "\n",
       "1. Initiating  \n",
       "   • Develop your business case or project brief.  – Why are we doing this?  What value (strategic, financial, customer) will it deliver?  \n",
       "   • Sponsor approval & Project Charter.  – Formal authorization document that names your project manager, high-level objectives, success criteria, key risks, milestone dates and budget summary.  \n",
       "   • Identify stakeholders.  – List everyone affected by or who can influence the project.  Capture their interests, influence and communication needs.  \n",
       "\n",
       "2. Planning  \n",
       "   • Scope Management Plan & Requirements.  – Define product scope (features/functions) and project scope (the work to build them); document acceptance criteria.  \n",
       "   • Create the WBS.  – Break your project work into manageable packages.  Assign owners and estimate time/cost.  \n",
       "   • Schedule, Cost & Resource Planning.  – Sequence activities, estimate durations, identify resources, build a schedule and budget baseline.  \n",
       "   • Quality, Risk, Procurement & Communication Plans.  – Decide how you’ll assure quality, identify and assess risks (risk register), plan for vendor contracts (if any), and map out stakeholder communications.  \n",
       "   • Integrate into a Project Management Plan.  – This “master plan” tells everyone how you’ll execute, monitor/control and close the project.\n",
       "\n",
       "3. Executing  \n",
       "   • Build the team and mobilize resources.  – Kick-off meeting to align everyone on roles, processes and goals.  \n",
       "   • Direct & manage project work.  – Perform the tasks in your PMP: develop deliverables, manage vendors, conduct quality assurance, engage stakeholders.  \n",
       "   • Manage communications.  – Hold regular status meetings, distribute reports, keep expectations aligned.\n",
       "\n",
       "4. Monitoring & Controlling  \n",
       "   • Track performance.  – Compare actual vs. planned schedule, cost and scope.  Use earned value (if appropriate).  \n",
       "   • Control changes.  – Any request that impacts scope/time/cost goes through your integrated change control process: impact assessment, decision by change control board or sponsor, and plan updates.  \n",
       "   • Manage risks and issues.  – Update risk responses, escalate issues, and adjust plans proactively.  \n",
       "   • Verify & validate deliverables.  – Ensure each output meets acceptance criteria before you sign it off.\n",
       "\n",
       "5. Closing  \n",
       "   • Formal acceptance.  – Obtain sign-off from the sponsor or customer that all deliverables meet requirements.  \n",
       "   • Administrative closure.  – Archive documents, close out contracts, release resources.  \n",
       "   • Lessons learned.  – Hold a retrospective workshop to capture successes, challenges and improvement ideas for future projects.  \n",
       "\n",
       "Tips for First-Time Project Managers  \n",
       " • Keep your Charter and PMP “living” but under strict change control—too many plan changes derail execution.  \n",
       " • Use simple tools (e.g., online WBS templates, Kanban boards, shared spreadsheets) to keep visibility high without over-engineering.  \n",
       " • Communicate early and often. A weekly one-page status with traffic-light indicators usually goes a long way.  \n",
       " • Tailor the level of documentation and formality to the project’s size and risk. A small internal IT upgrade doesn’t need a 100-page plan; a multi-million-dollar build likely does.\n",
       "\n",
       "Key takeaways:  \n",
       " • You’ll move deliberately from authorization (Initiating) through planning, delivery (Executing), performance oversight (Monitoring & Controlling), to formal hand-off and wrap-up (Closing).  \n",
       " • Each process group produces specific outputs (Charter, Scope Statement/WBS, PMP, status reports, lessons-learned) that keep work structured and transparent.  \n",
       " • Good stakeholder engagement, robust change control and clear communication are pillars of success.\n",
       "\n",
       "What would help you next?  \n",
       "  1. A one-page Project Charter template?  \n",
       "  2. A sample WBS and schedule worksheet?  \n",
       "  3. A simple change request form and approval workflow?  \n",
       "Let me know which you’d like to dive into!"
      ],
      "text/plain": [
       "<IPython.core.display.Markdown object>"
      ]
     },
     "metadata": {},
     "output_type": "display_data"
    }
   ],
   "source": [
    "ask_query(\"how do i make a project?\")"
   ]
  },
  {
   "cell_type": "code",
   "execution_count": 21,
   "id": "2e0e6d6e",
   "metadata": {},
   "outputs": [
    {
     "data": {
      "text/markdown": [
       "Below is a 3-level sample WBS for a small website‐development project. You can tailor the numbering, level of detail and deliverables to fit your own project’s size, complexity and methodology (predictive, hybrid or agile).\n",
       "\n",
       "1.0 Project Management  \n",
       "  1.1 Project Initiation  \n",
       "    1.1.1 Develop Business Case  \n",
       "    1.1.2 Identify Stakeholders  \n",
       "    1.1.3 Draft & Approve Project Charter  \n",
       "  1.2 Project Planning  \n",
       "    1.2.1 Scope Definition & WBS Development  \n",
       "    1.2.2 Schedule & Milestone Planning  \n",
       "    1.2.3 Cost & Resource Planning  \n",
       "    1.2.4 Quality, Risk & Communication Planning  \n",
       "  1.3 Project Monitoring & Control  \n",
       "    1.3.1 Status Reporting  \n",
       "    1.3.2 Change Control Management  \n",
       "    1.3.3 Risk & Issue Tracking  \n",
       "  1.4 Project Closing  \n",
       "    1.4.1 Formal Acceptance & Handover  \n",
       "    1.4.2 Contract Close-out  \n",
       "    1.4.3 Lessons Learned Workshop  \n",
       "\n",
       "2.0 Requirements & Analysis  \n",
       "  2.1 Elicit User Requirements  \n",
       "  2.2 Document Functional & Non-Functional Requirements  \n",
       "  2.3 Review & Approve Requirements Specification  \n",
       "\n",
       "3.0 Design  \n",
       "  3.1 Information Architecture & Sitemap  \n",
       "  3.2 Wireframes & Mockups  \n",
       "  3.3 UI/UX Design  \n",
       "  3.4 Design Approval  \n",
       "\n",
       "4.0 Development  \n",
       "  4.1 Front-End Development  \n",
       "    4.1.1 HTML/CSS Templates  \n",
       "    4.1.2 JavaScript & Interactive Components  \n",
       "  4.2 Back-End Development  \n",
       "    4.2.1 Database Schema & Setup  \n",
       "    4.2.2 Server-Side Logic & APIs  \n",
       "  4.3 Content Population & Styling  \n",
       "\n",
       "5.0 Testing  \n",
       "  5.1 Unit & Component Testing  \n",
       "  5.2 Integration Testing  \n",
       "  5.3 System & Performance Testing  \n",
       "  5.4 User Acceptance Testing (UAT)  \n",
       "\n",
       "6.0 Deployment & Training  \n",
       "  6.1 Production Environment Setup  \n",
       "  6.2 Data Migration (if any)  \n",
       "  6.3 Go-Live Deployment  \n",
       "  6.4 User Training & Documentation  \n",
       "\n",
       "7.0 Support & Maintenance (handover)  \n",
       "  7.1 Hypercare Support Period  \n",
       "  7.2 Post‐Implementation Review  \n",
       "  7.3 Transition to Operations  \n",
       "\n",
       "How to adapt this to your project:  \n",
       "• Go deeper (level 4+) for high-risk or complex deliverables.  \n",
       "• Merge or split WBS elements based on team structure (e.g., combine 4.1 and 4.2 if you have a full-stack team).  \n",
       "• Swap in agile artifacts (e.g., epics → user stories) under Development & Testing if you’re running sprints.  \n",
       "\n",
       "Next steps—what would be most helpful?  \n",
       "• A blank WBS template in Excel or Word?  \n",
       "• Guidance on numbering conventions and version control?  \n",
       "• Tips for rolling out your WBS in a live team workshop?"
      ],
      "text/plain": [
       "<IPython.core.display.Markdown object>"
      ]
     },
     "metadata": {},
     "output_type": "display_data"
    }
   ],
   "source": [
    "ask_query(\"make me a sample WBS\")"
   ]
  },
  {
   "cell_type": "code",
   "execution_count": 22,
   "id": "0ea6fb97",
   "metadata": {},
   "outputs": [
    {
     "data": {
      "text/markdown": [
       "Here’s a ready-to-paste blank WBS template you can drop into a Word document.  \n",
       "1. In Word, go to Insert → Table → choose 7 columns × as many rows as you need (you can start with 15).  \n",
       "2. Copy the text below (including the header row) and paste into your new table. The cell boundaries will auto-adjust.  \n",
       "\n",
       "WBS Code | Deliverable / Work Package | Description | Owner | Start Date | End Date | Status  \n",
       "---|---|---|---|---|---|---  \n",
       "1.0 |  |  |  |  |  |   \n",
       "1.1 |  |  |  |  |  |   \n",
       "1.1.1 |  |  |  |  |  |   \n",
       "1.1.2 |  |  |  |  |  |   \n",
       "1.2 |  |  |  |  |  |   \n",
       "1.2.1 |  |  |  |  |  |   \n",
       "1.2.2 |  |  |  |  |  |   \n",
       "1.3 |  |  |  |  |  |   \n",
       "2.0 |  |  |  |  |  |   \n",
       "2.1 |  |  |  |  |  |   \n",
       "2.1.1 |  |  |  |  |  |   \n",
       "…and so on (add or delete rows as needed)  \n",
       "\n",
       "How to use it:  \n",
       " • WBS Code: follows your numbering convention (e.g. 1.2.3 for Level 3).  \n",
       " • Deliverable/Work Package: a concise name (e.g. “UI Prototype”).  \n",
       " • Description: brief scope of work or acceptance criteria.  \n",
       " • Owner: person or team responsible.  \n",
       " • Start/End Dates: planned dates.  \n",
       " • Status: Not Started / In Progress / Complete / On Hold.  \n",
       "\n",
       "Tips:  \n",
       "– Keep Level 1 entries for major phases (Initiation, Planning, etc.).  \n",
       "– Level 2 and beyond break those phases into manageable work packages.  \n",
       "– Lock your finished WBS in your Baseline—and manage any changes via your Change Control process.  \n",
       "\n",
       "Let me know if you’d like:  \n",
       " • A quick guide on turning this into a living WBS in Excel with roll-up formulas?  \n",
       " • Advice on conducting your WBS-development workshop with stakeholders?  \n",
       " • A sample coded-naming convention template?"
      ],
      "text/plain": [
       "<IPython.core.display.Markdown object>"
      ]
     },
     "metadata": {},
     "output_type": "display_data"
    }
   ],
   "source": [
    "ask_query(\"make me a blank WBS template in word\")"
   ]
  },
  {
   "cell_type": "code",
   "execution_count": 23,
   "id": "538d1413",
   "metadata": {},
   "outputs": [
    {
     "data": {
      "text/markdown": [
       "Below is a step-by-step outline—aligned to PMBOK® process groups—showing how you’d turn your idea of a 2-storey, 150 m²-land/200 m²-building home into a manageable project. At the end is a sample high-level WBS you can use as a starting point.\n",
       "\n",
       "1. Initiating  \n",
       "  • Draft a Project Charter  \n",
       "    – Purpose & objectives (e.g., 2-storey home, ~200 m² living area, budget X, target completion date)  \n",
       "    – Key success criteria (quality standards, energy rating, permit approvals)  \n",
       "    – Sponsor (you or your financing entity) and Project Manager (you or a hired PM/contractor)  \n",
       "    – High-level milestone dates (design complete, permit in hand, foundation, topping-out, hand-over)  \n",
       "  • Identify Stakeholders  \n",
       "    – Owner/homebuyer, architect, structural engineer, local building authority, general contractor, neighbors  \n",
       "\n",
       "2. Planning  \n",
       "  A. Define Scope  \n",
       "    – Product scope: all rooms/features (bedrooms, bathrooms, kitchen, garage, roof terrace, landscaping).  \n",
       "    – Project scope: all work to deliver that house (design, permitting, site prep, construction, inspection, hand-over).  \n",
       "  B. Develop Your WBS (see sample below)  \n",
       "  C. Schedule & Cost Planning  \n",
       "    – Sequence activities (e.g., permit → site excavation → foundation → framing → services → finishes).  \n",
       "    – Estimate durations & costs by WBS element. Build your schedule (Gantt) and budget.  \n",
       "  D. Plan Other Knowledge Areas  \n",
       "    – Quality: define inspection points (concrete strength tests, waterproofing checks, framing tolerances).  \n",
       "    – Risk: list major risks (permit delays, weather, material cost inflation, labor shortages) and responses.  \n",
       "    – Procurement: decide how you’ll hire (design-build contract vs. separate architect + GC + trades).  \n",
       "    – Communications: plan site-meetings cadence, progress reports, stakeholder updates.  \n",
       "\n",
       "3. Executing  \n",
       "  • Kick-off meeting with your design-build team (or separate architect + contractor).  \n",
       "  • Manage design & permit submittals.  \n",
       "  • Mobilize site: fencing, utilities, erosion control.  \n",
       "  • Construction work in accordance with your WBS, schedule and quality plan.  \n",
       "  • Ongoing stakeholder engagement (neighborhood notifications, authority inspections).  \n",
       "\n",
       "4. Monitoring & Controlling  \n",
       "  • Track progress vs. schedule (weekly) and budget (monthly).  \n",
       "  • Control changes—any scope addition (e.g., changing window sizes) goes through a formal change request, impact analysis on time/cost, and sign-off.  \n",
       "  • Manage risks—update your risk register; implement mitigation (e.g., pre-order long-lead items).  \n",
       "  • Quality inspections at each milestone (foundation, framing, MEP rough-in, finishes).  \n",
       "\n",
       "5. Closing  \n",
       "  • Final inspections, certificate of occupancy.  \n",
       "  • Punch-list resolution.  \n",
       "  • Formal hand-over of keys, as-built drawings, warranties.  \n",
       "  • Lessons Learned session: capture what went well and improvement ideas for your next build.  \n",
       "\n",
       "— — — — — — — — — — —   \n",
       "Sample High-Level WBS for Your 2-Storey House  \n",
       "(Level 1 & 2 only; expand Level 3+ as needed)  \n",
       "\n",
       "1.0 Project Management  \n",
       "  1.1 Initiation & Charter  \n",
       "  1.2 Scope, Schedule & Cost Baseline  \n",
       "  1.3 Quality & Risk Management Plans  \n",
       "  1.4 Communications & Stakeholder Engagement  \n",
       "  1.5 Project Monitoring & Control  \n",
       "  1.6 Project Close-out  \n",
       "\n",
       "2.0 Design & Permitting  \n",
       "  2.1 Schematic Design  \n",
       "  2.2 Detailed Architectural & Structural Design  \n",
       "  2.3 MEP (Mechanical, Electrical, Plumbing) Design  \n",
       "  2.4 Permit Application & Approvals  \n",
       "\n",
       "3.0 Site Preparation  \n",
       "  3.1 Site Survey & Layout  \n",
       "  3.2 Earthworks & Excavation  \n",
       "  3.3 Temporary Utilities & Fencing  \n",
       "\n",
       "4.0 Foundation  \n",
       "  4.1 Formwork & Reinforcement  \n",
       "  4.2 Concrete Pour & Curing  \n",
       "  4.3 Foundation Waterproofing  \n",
       "\n",
       "5.0 Superstructure  \n",
       "  5.1 Ground-Floor Slab & Columns  \n",
       "  5.2 1st-Floor Slab & Columns  \n",
       "  5.3 Staircase & Roof Structure  \n",
       "\n",
       "6.0 Building Envelope  \n",
       "  6.1 External Walls & Brickwork  \n",
       "  6.2 Roof Covering & Insulation  \n",
       "  6.3 Windows & External Doors  \n",
       "\n",
       "7.0 MEP Rough-In  \n",
       "  7.1 Electrical Conduits & Wiring  \n",
       "  7.2 Plumbing Pipes & Drains  \n",
       "  7.3 HVAC Ducting & Equipment  \n",
       "\n",
       "8.0 Interior Finishes  \n",
       "  8.1 Plaster & Paint  \n",
       "  8.2 Flooring & Tiling  \n",
       "  8.3 Carpentry & Fixtures  \n",
       "  8.4 Sanitary Ware & Equipment  \n",
       "\n",
       "9.0 External Works  \n",
       "  9.1 Driveway & Pathways  \n",
       "  9.2 Landscaping & Fencing  \n",
       "  9.3 External Lighting & Drainage  \n",
       "\n",
       "10.0 Close-out & Handover  \n",
       "  10.1 Final Inspections & Certifications  \n",
       "  10.2 Punch-list Completion  \n",
       "  10.3 As-Built Documentation & Warranties  \n",
       "  10.4 Lessons Learned  \n",
       "\n",
       "— — — — — — — — — — —   \n",
       "Now you can:  \n",
       "• Expand each Level 2 deliverable into Level 3 work packages with durations, costs, owners.  \n",
       "• Sequence them in your schedule, assign resources, and begin execution.  \n",
       "\n",
       "Next steps—what would be most helpful?  \n",
       "1. A blank Excel schedule template with roll-ups linked to the WBS?  \n",
       "2. A simple change-request form for on-site scope tweaks?  \n",
       "3. A risk-register template tailored to residential construction?"
      ],
      "text/plain": [
       "<IPython.core.display.Markdown object>"
      ]
     },
     "metadata": {},
     "output_type": "display_data"
    }
   ],
   "source": [
    "ask_query(\"I want to build a 2-storey house with 150 square meters of land and 200 square meters of building. How do I make this project?\")"
   ]
  },
  {
   "cell_type": "code",
   "execution_count": 25,
   "id": "d571cecd",
   "metadata": {},
   "outputs": [
    {
     "data": {
      "text/markdown": [
       "As of today’s trading, the retail price for 24-karat Antam gold bars in Indonesia is roughly IDR 1.17 million per gram*.  \n",
       "\n",
       "To get the most up-to-date quote (prices update twice daily at 10:00 WIB and 14:00 WIB), you can check:  \n",
       " • Official Antam (Logam Mulia) website: https://www.logammulia.com/id/harga-emas-hari-ini  \n",
       " • Pegadaian price board: via their mobile app or website  \n",
       "\n",
       "*Note: Antam’s quoted price includes their premium but excludes the 0.9% government purchase tax (PPh 22). Dealers or other retailers may add small markups, so always compare “buy” versus “sell” rates.\n",
       "\n",
       "Anything else I can help you with? Perhaps:  \n",
       " • Tips for budgeting gold purchases (e.g., for jewelry vs. investment)  \n",
       " • How to track price movements over time in a simple spreadsheet  \n",
       " • Local trusted dealers and typical premium rates over Antam’s spot price?"
      ],
      "text/plain": [
       "<IPython.core.display.Markdown object>"
      ]
     },
     "metadata": {},
     "output_type": "display_data"
    }
   ],
   "source": [
    "ask_query(\"what is today's gold price in indonesia?\")"
   ]
  },
  {
   "cell_type": "code",
   "execution_count": null,
   "id": "a40c7681",
   "metadata": {},
   "outputs": [],
   "source": []
  }
 ],
 "metadata": {
  "kernelspec": {
   "display_name": "venv312",
   "language": "python",
   "name": "python3"
  },
  "language_info": {
   "codemirror_mode": {
    "name": "ipython",
    "version": 3
   },
   "file_extension": ".py",
   "mimetype": "text/x-python",
   "name": "python",
   "nbconvert_exporter": "python",
   "pygments_lexer": "ipython3",
   "version": "3.12.0"
  }
 },
 "nbformat": 4,
 "nbformat_minor": 5
}
